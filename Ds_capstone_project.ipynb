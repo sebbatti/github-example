{
 "cells": [
  {
   "cell_type": "markdown",
   "metadata": {},
   "source": [
    "# Capstone Project -  \n",
    "### Applied Data Science Capstone by IBM/Coursera"
   ]
  },
  {
   "cell_type": "markdown",
   "metadata": {},
   "source": [
    "## Introduction: Business Problem"
   ]
  },
  {
   "cell_type": "markdown",
   "metadata": {},
   "source": [
    "Analyzing the distribution of coffee shops in the city of Toronto\n",
    "\n",
    "A new group of coffee shop owners wants to set up a new shop in Toronto. Unable to decide the right spot to set up the shop, we'll use visualizations using folium to locate the existing coffee shops in Toronto and select the place where there are the lease number of coffee shops."
   ]
  },
  {
   "cell_type": "markdown",
   "metadata": {},
   "source": [
    "## Data"
   ]
  },
  {
   "cell_type": "markdown",
   "metadata": {},
   "source": [
    "The data used are - \n",
    "\n",
    "1. List of boroughs from https://en.wikipedia.org/wiki/List_of_postal_codes_of_Canada:_M and their associated neighborhood. It will be downloaded and stored into 'table.csv' file\n",
    "2. Latitude and Longitude of each neighborhood from \"https://cocl.us/Geospatial_data\"\n",
    "3. Merge the above two data\n",
    "4. The boroughs related to Toronto, ie. East Toronto, West Toronto, Downtown Toronto, Central Toronto and their associated neighborhoods are selected.\n",
    "5. Using Foursquare API, Venues near the neighborhoods are located. From this all coffee shops are selected.\n",
    "6. All the coffee shops in the neighborhood are then plotted on the map. The locations with the least density are the ideal place to start a new coffee shop."
   ]
  }
 ],
 "metadata": {
  "kernelspec": {
   "display_name": "Python",
   "language": "python",
   "name": "conda-env-python-py"
  },
  "language_info": {
   "codemirror_mode": {
    "name": "ipython",
    "version": 3
   },
   "file_extension": ".py",
   "mimetype": "text/x-python",
   "name": "python",
   "nbconvert_exporter": "python",
   "pygments_lexer": "ipython3",
   "version": "3.6.10"
  }
 },
 "nbformat": 4,
 "nbformat_minor": 4
}
